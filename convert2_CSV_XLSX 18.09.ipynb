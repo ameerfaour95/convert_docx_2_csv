{
 "cells": [
  {
   "cell_type": "code",
   "execution_count": 592,
   "id": "25b1b434-9979-4fef-8982-12493b7d48d8",
   "metadata": {},
   "outputs": [
    {
     "name": "stdout",
     "output_type": "stream",
     "text": [
      "Requirement already satisfied: docx2python in c:\\users\\user\\anaconda3\\lib\\site-packages (2.0.4)\n",
      "Requirement already satisfied: lxml in c:\\users\\user\\anaconda3\\lib\\site-packages (from docx2python) (4.8.0)\n"
     ]
    }
   ],
   "source": [
    "!pip install docx2python"
   ]
  },
  {
   "cell_type": "code",
   "execution_count": 1033,
   "id": "8cdd12b4-5f44-47ab-8be9-62942e3a01c1",
   "metadata": {},
   "outputs": [],
   "source": [
    "from docx2python import docx2python\n",
    "import pandas as pd\n",
    "import numpy as np\n",
    "import os"
   ]
  },
  {
   "cell_type": "code",
   "execution_count": 1053,
   "id": "b50d23b6-3307-4ec3-b330-e6efacb22760",
   "metadata": {},
   "outputs": [],
   "source": [
    "path = \"C:/Users/user/Desktop/עמיר/לימודים/הנדסת תעשייה וניהול+אחר/Python/\""
   ]
  },
  {
   "cell_type": "markdown",
   "id": "665a16c9-a1ee-498a-a831-1bebbb0e0958",
   "metadata": {},
   "source": [
    "---"
   ]
  },
  {
   "cell_type": "markdown",
   "id": "1106adbf-e25a-452e-9690-a0e6d5863e0a",
   "metadata": {},
   "source": [
    "##  This class add a key and a value to a dictionary"
   ]
  },
  {
   "cell_type": "code",
   "execution_count": 1054,
   "id": "2a7fc460-89f0-4749-a100-ddcff7065cc6",
   "metadata": {},
   "outputs": [],
   "source": [
    "class MyDictionary(dict):\n",
    "    def __init__(self):\n",
    "        self = dict()\n",
    "        \n",
    "    def add(self,key,value):\n",
    "        self[key] = value\n",
    "        \n",
    "myDict_1 = MyDictionary()\n",
    "myDict_2 = MyDictionary()"
   ]
  },
  {
   "cell_type": "markdown",
   "id": "aa616571-a9d7-4598-b47d-a3cf74984cbe",
   "metadata": {},
   "source": [
    "---"
   ]
  },
  {
   "cell_type": "markdown",
   "id": "61d5436a-3e23-459d-ac85-d1dfcbf05c03",
   "metadata": {},
   "source": [
    "## This function turn the word text thats not in table and put it into a dataframe"
   ]
  },
  {
   "cell_type": "code",
   "execution_count": 1055,
   "id": "9e591265-0a6b-4f27-b02a-0f3abbb2b9d2",
   "metadata": {},
   "outputs": [],
   "source": [
    "def put_into_tabel(file_path):\n",
    "    from docx import Document\n",
    "    document = Document(file_path)\n",
    "    myLst = []\n",
    "    for p in document.paragraphs:\n",
    "        myLst.append(p.text)\n",
    "    myLst = pd.DataFrame(myLst)\n",
    "    myLst.columns = [\"TEXT\"]\n",
    "    return myLst"
   ]
  },
  {
   "cell_type": "markdown",
   "id": "86b28a03-9498-479b-8b41-065d2d32976c",
   "metadata": {},
   "source": [
    "---"
   ]
  },
  {
   "cell_type": "markdown",
   "id": "6eaef6a3-5d4a-46e4-b0b9-75eb792d189a",
   "metadata": {},
   "source": [
    "## This turn the medical history section into a dataframe "
   ]
  },
  {
   "cell_type": "code",
   "execution_count": 1056,
   "id": "baa5dc7f-b989-42d2-a0fe-18ab2101325e",
   "metadata": {},
   "outputs": [],
   "source": [
    "def medical_history(doc_path):\n",
    "    bent_list1 = put_into_tabel(doc_path)\n",
    "    lst2 = bent_list1.iloc[np.where(bent_list1.TEXT == \"היסטוריה רפואית\")[0][0]:np.where(bent_list1.TEXT == \"חדות ראיה\")[0][0]]\n",
    "    \n",
    "    first_text_dict = {\"Medical History-background\":\"\",\"Medical History-Medication sensitivity\":\"\",\"Medical History-obstetrical history\":\"\",\"Medical History-family history\":\"\",\n",
    "       \"Medical History-reason for visit\":\"\"}\n",
    "    myList = []\n",
    "    for i in lst2.TEXT:\n",
    "        if i!=\"\":\n",
    "            myList.append(i)\n",
    "    myList.remove(\"היסטוריה רפואית\")\n",
    "\n",
    "    counter = 0 \n",
    "    for key in first_text_dict.keys():\n",
    "        myDict_1.add(key,myList[counter][myList[counter].find(\":\")+1:])\n",
    "        counter+=1 \n",
    "    mdh_Dataframe = pd.DataFrame(myDict_1, index=[0])\n",
    "    return mdh_Dataframe"
   ]
  },
  {
   "cell_type": "markdown",
   "id": "682a2f3c-52dd-4fd3-ae6d-6810beb0bea3",
   "metadata": {},
   "source": [
    "---"
   ]
  },
  {
   "cell_type": "markdown",
   "id": "c93b1bc1-5399-4196-a4f4-97deb90f046e",
   "metadata": {},
   "source": [
    "## This turn the squinting assessment section into a dataframe "
   ]
  },
  {
   "cell_type": "code",
   "execution_count": 1059,
   "id": "d45c17f4-b013-4699-9f2b-719ae4cf3147",
   "metadata": {},
   "outputs": [],
   "source": [
    "def squinting_assessment(DocPath):\n",
    "    bent_list2 = put_into_tabel(DocPath)\n",
    "    lst3 = bent_list2.iloc[np.where(bent_list2.TEXT == \"הערכת פזילה\")[0][0]:]\n",
    "    \n",
    "    second_text_dict = {\"Squinting Assessment-eye movement\":\"\",\"Squinting Assessment-strabismus\":\"\"\n",
    "                ,\"Squinting Assessment-depth vision\":\"\",\"Near point of convergence\":\"\",\"Summary\":\"\",\n",
    "                        \"Treatment Recommendations\":\"\",\"Recommendations for Review\":\"\"}\n",
    "    text_list = []\n",
    "    for i in lst3.TEXT:\n",
    "        if i != \"\":\n",
    "            text_list.append(i)\n",
    "    text_list.remove(\"הערכת פזילה\")\n",
    "\n",
    "    counter = 0 \n",
    "    for key in second_text_dict.keys():\n",
    "\n",
    "        if key == \"Squinting Assessment-depth vision\" and \"ראית עומק:\" in str(text_list):\n",
    "            myDict_2.add(key,text_list[counter][text_list[counter].find(\":\")+1:])\n",
    "            counter+=1 \n",
    "            print(key)\n",
    "\n",
    "        elif key == \"Near point of convergence\" and \"Near point of convergence:\" in str(text_list):\n",
    "            myDict_2.add(key,text_list[counter][text_list[counter].find(\":\")+1:])\n",
    "            counter+=1 \n",
    "            print(1)\n",
    "\n",
    "        elif key == \"Squinting Assessment-depth vision\" and \"ראית עומק:\" not in text_list:\n",
    "            myDict_2.add(key,\"empty\")\n",
    "\n",
    "        elif key == \"Near point of convergence\" and \"Near point of convergence:\" not in str(text_list):\n",
    "            myDict_2.add(key,\"empty\")\n",
    "\n",
    "        else:\n",
    "            myDict_2.add(key,text_list[counter][text_list[counter].find(\":\")+1:])\n",
    "            counter+=1 \n",
    "        \n",
    "    SA_Dataframe = pd.DataFrame(myDict_2, index=[0])\n",
    "    return SA_Dataframe"
   ]
  },
  {
   "cell_type": "markdown",
   "id": "a245af2f-c23c-48fc-ac62-8b07ee9d0b95",
   "metadata": {},
   "source": [
    "---"
   ]
  },
  {
   "cell_type": "markdown",
   "id": "0241e4ea-c729-40e9-8027-3e2b9e1ec673",
   "metadata": {},
   "source": [
    "## This function takes the path of a directory and put it into a list (it takes only docx files)"
   ]
  },
  {
   "cell_type": "code",
   "execution_count": 1060,
   "id": "a90140bc-c2ac-47a1-9c2b-3fb79e0d7651",
   "metadata": {},
   "outputs": [],
   "source": [
    "def getFilePathsListFromDir(directory):\n",
    "    file_paths = []\n",
    "    for filename in os.listdir(directory):\n",
    "        f = os.path.join(directory, filename)\n",
    "        if os.path.isfile(f) and filename[-4:] == \"docx\":\n",
    "            file_paths.append(f)\n",
    "    return file_paths"
   ]
  },
  {
   "cell_type": "markdown",
   "id": "e7682fd1-931e-40de-9227-7302205c0fb6",
   "metadata": {},
   "source": [
    "---"
   ]
  },
  {
   "cell_type": "markdown",
   "id": "9ae1c590-d0b8-4991-bcf4-e9e4c83e2127",
   "metadata": {
    "tags": []
   },
   "source": [
    "## This function takes the personal details and transform all the data into a one row"
   ]
  },
  {
   "cell_type": "code",
   "execution_count": 1061,
   "id": "74089f16-a491-41cb-8800-db4350b678ba",
   "metadata": {},
   "outputs": [],
   "source": [
    "def personal_details(df):\n",
    "    data = {}\n",
    "    for i in df.index:\n",
    "        data[i]=df[1][i]\n",
    "    for j in df.index:\n",
    "        i+=1\n",
    "        data[i]=df[3][j]\n",
    "    data = pd.DataFrame(data)\n",
    "    data.columns = [\"Name\",\"ID\", \"Age\",\"Sex\", \"Phone 1\", \"Phone 2\"] \n",
    "    return data"
   ]
  },
  {
   "cell_type": "markdown",
   "id": "d2a54db6-5104-4ff3-b0b0-25b1b2af04a8",
   "metadata": {},
   "source": [
    "---"
   ]
  },
  {
   "cell_type": "markdown",
   "id": "2c02b9f7-05dc-4711-991b-0516a9b39bb9",
   "metadata": {},
   "source": [
    "## This function takes the do_ene (דו עיני) details and transform all the data into a one row"
   ]
  },
  {
   "cell_type": "code",
   "execution_count": 1062,
   "id": "f74c90b6-ffaa-4fb3-9e9e-eb79dfedae1a",
   "metadata": {},
   "outputs": [],
   "source": [
    "def do_ene(df):\n",
    "    df = df.fillna(value='[]')\n",
    "    data_doEne = {}\n",
    "    df.index = df.index + 1\n",
    "    df_out = df.stack()\n",
    "    df_out.index = df_out.index.map('{0[1]}_{0[0]}'.format)\n",
    "    df_out = df_out.to_frame().T\n",
    "    df_out=df_out.iloc[: , 4:]\n",
    "    start = 0\n",
    "    end = 1\n",
    "    for k in range(len(df_out.columns)):\n",
    "        if end % 3 == 0:\n",
    "            start+=1\n",
    "            end+=1\n",
    "            continue\n",
    "        else:\n",
    "            answer = str(df_out.iloc[: , start:end]).split(\" \")[-1]\n",
    "            data_doEne[str(start)] = answer\n",
    "            start+=1\n",
    "            end+=1\n",
    "    data_doEne = pd.DataFrame(data_doEne, index=[0])\n",
    "    data_doEne.columns = [\"far_without_repair_LEFT\",\"far_without_repair_RIGHT\",\n",
    "                          \"far_with_repair_LEFT\",\"far_with_repair_RIGHT\",\n",
    "                          \"close_without_repair_LEFT\", \"close_without_repair_RIGHT\",\n",
    "                          \"close_with_repair_LEFT\", \"close_with_repair_RIGHT\"] \n",
    "    return data_doEne"
   ]
  },
  {
   "cell_type": "markdown",
   "id": "a3989590-2707-46bc-8f9d-4b3176f0a2c6",
   "metadata": {
    "tags": []
   },
   "source": [
    " ---"
   ]
  },
  {
   "cell_type": "markdown",
   "id": "f215a8d7-17b8-4fbb-b293-9998612f8956",
   "metadata": {},
   "source": [
    "## The 3 functions below takes the משקפיים,רפרקציה ציקלופלגית ,רפרקציה סובייקטיבית details and changes the columns name."
   ]
  },
  {
   "cell_type": "code",
   "execution_count": 1063,
   "id": "2579a8e0-07a3-4250-861d-9ae6e2fdab76",
   "metadata": {},
   "outputs": [],
   "source": [
    "def glasses_function(glasses_data):\n",
    "    glasses_data.columns = [\"glasses_left_1\",\"glasses_left_2\", \"glasses_left_3\",\"glasses_left_4\", \"glasses_left_5\",\n",
    "                    \"glasses_left_6\",\n",
    "                   \"glasses_right_1\",\"glasses_right_2\",\"glasses_right_3\",\"glasses_right_4\",\"glasses_right_5\",\n",
    "                   \"glasses_right_6\",] \n",
    "    return glasses_data"
   ]
  },
  {
   "cell_type": "code",
   "execution_count": 1064,
   "id": "4907ec00-d641-4bb1-aed0-35d501eaa7ae",
   "metadata": {},
   "outputs": [],
   "source": [
    "def cycloplegic_function(cycloplegic_data):\n",
    "    cycloplegic_data.columns = [\"cycloplegic_ref_left_1\",\"cycloplegic_ref_left_2\", \"cycloplegic_ref_left_3\",\n",
    "                \"cycloplegic_ref_left_4\", \"cycloplegic_ref_left_5\",\"cycloplegic_ref_left_6\",\n",
    "               \"cycloplegic_ref_right_1\",\"cycloplegic_ref_right_2\",\"cycloplegic_ref_right_3\",\n",
    "               \"cycloplegic_ref_right_4\",\"cycloplegic_ref_right_5\",\"cycloplegic_ref_right_6\",] \n",
    "    return cycloplegic_data"
   ]
  },
  {
   "cell_type": "code",
   "execution_count": 1065,
   "id": "a2cb16cf-bb45-4ac8-b9d7-257a2a2a47cb",
   "metadata": {},
   "outputs": [],
   "source": [
    "def subjective_function(subjective_data):\n",
    "    subjective_data.columns = [\"subjective_ref_left_1\",\"subjective_ref_left_2\", \"subjective_ref_left_3\",\n",
    "                \"subjective_ref_left_4\", \"subjective_ref_left_5\",\"subjective_ref_left_6\",\n",
    "               \"subjective_ref_right_1\",\"subjective_ref_right_2\",\"subjective_ref_right_3\",\n",
    "               \"subjective_ref_right_4\",\"subjective_ref_right_5\",\"subjective_ref_right_6\",] \n",
    "    return subjective_data"
   ]
  },
  {
   "cell_type": "markdown",
   "id": "d308fd88-8944-424b-8e1b-4fdd557a17ec",
   "metadata": {},
   "source": [
    "---"
   ]
  },
  {
   "cell_type": "markdown",
   "id": "8972905c-de59-4a36-b3fe-6fa881b13cb6",
   "metadata": {},
   "source": [
    "## This function takes the בדיקת עיניים details and transform all the data into a one row"
   ]
  },
  {
   "cell_type": "code",
   "execution_count": 1066,
   "id": "40f4840d-6077-48fd-8e7b-c1244cb31ce2",
   "metadata": {},
   "outputs": [],
   "source": [
    "def left_eye(data):\n",
    "    myDict1 = {}\n",
    "    for i in range(len(data.index)):\n",
    "        myKey = data[0][0][0]+\" \"+data[1][i][0]\n",
    "        myValue = data[0][i][0]\n",
    "        myDict1[myKey] = myValue\n",
    "    myDict1 = pd.DataFrame(myDict1, index=[0])\n",
    "    return myDict1.iloc[:,1:]"
   ]
  },
  {
   "cell_type": "code",
   "execution_count": 1067,
   "id": "dff23720-b718-41cd-9947-72f36535dae8",
   "metadata": {},
   "outputs": [],
   "source": [
    "def right_eye(data):\n",
    "    myDict2 = {}\n",
    "    for i in range(len(data.index)):\n",
    "        myKey = data[2][0][0]+\" \"+data[1][i][0]\n",
    "        myValue = data[2][i][0]\n",
    "        myDict2[myKey] = myValue\n",
    "    myDict2 = pd.DataFrame(myDict2, index=[0])\n",
    "    return myDict2.iloc[:,1:]"
   ]
  },
  {
   "cell_type": "markdown",
   "id": "9f6821d5-acfe-4605-9047-f2b677903301",
   "metadata": {},
   "source": [
    "---"
   ]
  },
  {
   "cell_type": "markdown",
   "id": "042e956d-fabb-442c-8b9c-79112a1dd2a7",
   "metadata": {},
   "source": [
    "## <font color='red'>This function activate every thing</font>"
   ]
  },
  {
   "cell_type": "code",
   "execution_count": 1068,
   "id": "370acd78-c142-4ca0-af14-86b671417442",
   "metadata": {},
   "outputs": [],
   "source": [
    "def active(path):\n",
    "    doc_result = docx2python(path)\n",
    "    personal_details_table = pd.DataFrame(doc_result.body[1][0:])\n",
    "    do_ene_table=pd.DataFrame(doc_result.body[3][1:])\n",
    "    glasses_data = pd.DataFrame(doc_result.body[5][1:])\n",
    "    cycloplegic_data = pd.DataFrame(doc_result.body[7][1:])\n",
    "    subjective_data = pd.DataFrame(doc_result.body[9][1:])\n",
    "    left_right_eye_data = pd.DataFrame(doc_result.body[11][0:])\n",
    "    all_files = [personal_details(personal_details_table),\n",
    "           do_ene(do_ene_table),\n",
    "           glasses_function(glasses_data),\n",
    "           cycloplegic_function(cycloplegic_data),\n",
    "           subjective_function(subjective_data),\n",
    "           left_eye(left_right_eye_data),\n",
    "           right_eye(left_right_eye_data),medical_history(path),squinting_assessment(path)]\n",
    "    final_data = pd.concat(all_files,axis=1, ignore_index=False)\n",
    "    return final_data"
   ]
  },
  {
   "cell_type": "markdown",
   "id": "c7b819f6-6c7f-41c7-9b73-cb198fd49883",
   "metadata": {},
   "source": [
    "----"
   ]
  },
  {
   "cell_type": "markdown",
   "id": "9c83bbd7-550e-46b9-b2fb-268f9ee9eb73",
   "metadata": {},
   "source": [
    "## Run thes two codes to save and the show the final data"
   ]
  },
  {
   "cell_type": "code",
   "execution_count": 1069,
   "id": "5cb903f9-aefd-491b-b106-fe9ff9f5f5b0",
   "metadata": {},
   "outputs": [
    {
     "name": "stderr",
     "output_type": "stream",
     "text": [
      "Loading...:  67%|██████▋   | 4/6 [00:01<00:00,  2.20it/s]"
     ]
    },
    {
     "name": "stdout",
     "output_type": "stream",
     "text": [
      "Squinting Assessment-depth vision\n",
      "1\n"
     ]
    },
    {
     "name": "stderr",
     "output_type": "stream",
     "text": [
      "Loading...:  83%|████████▎ | 5/6 [00:02<00:00,  2.19it/s]"
     ]
    },
    {
     "name": "stdout",
     "output_type": "stream",
     "text": [
      "Squinting Assessment-depth vision\n",
      "1\n"
     ]
    },
    {
     "name": "stderr",
     "output_type": "stream",
     "text": [
      "                                                         "
     ]
    },
    {
     "name": "stdout",
     "output_type": "stream",
     "text": [
      "Squinting Assessment-depth vision\n",
      "Done!\n"
     ]
    },
    {
     "name": "stderr",
     "output_type": "stream",
     "text": [
      "\r"
     ]
    }
   ],
   "source": [
    "list_of_file = []\n",
    "from tqdm import tqdm\n",
    "loop=tqdm(total=len(getFilePathsListFromDir(path)),position=0,leave=False)\n",
    "for z in range(len(getFilePathsListFromDir(path))):\n",
    "    list_of_file.append(active(getFilePathsListFromDir(path)[z]))\n",
    "    loop.set_description('Loading...'.format(z))\n",
    "    loop.update(1)\n",
    "final_df = pd.concat(list_of_file,axis=0, ignore_index=False)\n",
    "print('Done!')\n",
    "loop.close()"
   ]
  },
  {
   "cell_type": "code",
   "execution_count": 1070,
   "id": "40e07612-fdb2-440f-b894-6409c3c7a58f",
   "metadata": {},
   "outputs": [
    {
     "data": {
      "text/html": [
       "<div>\n",
       "<style scoped>\n",
       "    .dataframe tbody tr th:only-of-type {\n",
       "        vertical-align: middle;\n",
       "    }\n",
       "\n",
       "    .dataframe tbody tr th {\n",
       "        vertical-align: top;\n",
       "    }\n",
       "\n",
       "    .dataframe thead th {\n",
       "        text-align: right;\n",
       "    }\n",
       "</style>\n",
       "<table border=\"1\" class=\"dataframe\">\n",
       "  <thead>\n",
       "    <tr style=\"text-align: right;\">\n",
       "      <th></th>\n",
       "      <th>Name</th>\n",
       "      <th>ID</th>\n",
       "      <th>Age</th>\n",
       "      <th>Sex</th>\n",
       "      <th>Phone 1</th>\n",
       "      <th>Phone 2</th>\n",
       "      <th>far_without_repair_LEFT</th>\n",
       "      <th>far_without_repair_RIGHT</th>\n",
       "      <th>far_with_repair_LEFT</th>\n",
       "      <th>far_with_repair_RIGHT</th>\n",
       "      <th>...</th>\n",
       "      <th>Medical History-obstetrical history</th>\n",
       "      <th>Medical History-family history</th>\n",
       "      <th>Medical History-reason for visit</th>\n",
       "      <th>Squinting Assessment-eye movement</th>\n",
       "      <th>Squinting Assessment-strabismus</th>\n",
       "      <th>Squinting Assessment-depth vision</th>\n",
       "      <th>Near point of convergence</th>\n",
       "      <th>Summary</th>\n",
       "      <th>Treatment Recommendations</th>\n",
       "      <th>Recommendations for Review</th>\n",
       "    </tr>\n",
       "  </thead>\n",
       "  <tbody>\n",
       "    <tr>\n",
       "      <th>0</th>\n",
       "      <td>ההההההה</td>\n",
       "      <td>555555555</td>\n",
       "      <td>6ש</td>\n",
       "      <td>נ</td>\n",
       "      <td>0528999999</td>\n",
       "      <td></td>\n",
       "      <td>[F+F]</td>\n",
       "      <td>[F+F]</td>\n",
       "      <td>[]</td>\n",
       "      <td>[]</td>\n",
       "      <td>...</td>\n",
       "      <td>תקינה</td>\n",
       "      <td>רוחק ראיה וקוצר ראיה</td>\n",
       "      <td>בדיקה שגרתית   בעבר דמעת שחלפה</td>\n",
       "      <td>מלאות</td>\n",
       "      <td>ללא עדות לפזילה</td>\n",
       "      <td>empty</td>\n",
       "      <td>empty</td>\n",
       "      <td>ללא עדות לבעיה עינית, מיקוד תקין</td>\n",
       "      <td>ללא צורך בטיפול</td>\n",
       "      <td>לפי הצורך</td>\n",
       "    </tr>\n",
       "    <tr>\n",
       "      <th>0</th>\n",
       "      <td>רותי נבון</td>\n",
       "      <td>111111111</td>\n",
       "      <td>6ש</td>\n",
       "      <td>נ</td>\n",
       "      <td>0528999999</td>\n",
       "      <td></td>\n",
       "      <td>[F+F]</td>\n",
       "      <td>[F+F]</td>\n",
       "      <td>[]</td>\n",
       "      <td>[]</td>\n",
       "      <td>...</td>\n",
       "      <td>תקינה</td>\n",
       "      <td>רוחק ראיה וקוצר ראיה</td>\n",
       "      <td>בדיקה שגרתית   בעבר דמעת שחלפה</td>\n",
       "      <td>מלאות</td>\n",
       "      <td>ללא עדות לפזילה</td>\n",
       "      <td>empty</td>\n",
       "      <td>empty</td>\n",
       "      <td>ללא עדות לבעיה עינית, מיקוד תקין</td>\n",
       "      <td>ללא צורך בטיפול</td>\n",
       "      <td>לפי הצורך</td>\n",
       "    </tr>\n",
       "    <tr>\n",
       "      <th>0</th>\n",
       "      <td>דדדדדדד</td>\n",
       "      <td></td>\n",
       "      <td>12 חודשים</td>\n",
       "      <td>ז</td>\n",
       "      <td>0524444444</td>\n",
       "      <td></td>\n",
       "      <td>[F+F]</td>\n",
       "      <td>[F+F]</td>\n",
       "      <td>[]</td>\n",
       "      <td>[]</td>\n",
       "      <td>...</td>\n",
       "      <td>תקינה</td>\n",
       "      <td>רוחק ראיה וקוצר ראיה</td>\n",
       "      <td>בדיקה לצורך שלילת גורמי סיכון לעין עצלה</td>\n",
       "      <td>מלאות</td>\n",
       "      <td>ללא עדות לפזילה</td>\n",
       "      <td>empty</td>\n",
       "      <td>empty</td>\n",
       "      <td>ללא עדות לבעיה עינית</td>\n",
       "      <td>ללא צורך בטיפול</td>\n",
       "      <td>עוד שנתיים</td>\n",
       "    </tr>\n",
       "    <tr>\n",
       "      <th>0</th>\n",
       "      <td>אאאאאאא</td>\n",
       "      <td></td>\n",
       "      <td>8.6ש</td>\n",
       "      <td>נ</td>\n",
       "      <td>11111111</td>\n",
       "      <td></td>\n",
       "      <td>[6/9]</td>\n",
       "      <td>[6/6]</td>\n",
       "      <td>[6/7.5]</td>\n",
       "      <td>[]</td>\n",
       "      <td>...</td>\n",
       "      <td>תקינה</td>\n",
       "      <td>אסטיגמטיזם לאב</td>\n",
       "      <td>הרכיבה מישקפיים ארבע שנים וחצי עקב אסטיגמצי...</td>\n",
       "      <td>מלאות</td>\n",
       "      <td>ללא עדות לפזילה</td>\n",
       "      <td>50 שניות של הקשת</td>\n",
       "      <td>תקין</td>\n",
       "      <td>היום כמעט ללא אסטיגמטיזם מיופיה קלה</td>\n",
       "      <td>אין צורך במישקפיים</td>\n",
       "      <td>עוד שנה</td>\n",
       "    </tr>\n",
       "    <tr>\n",
       "      <th>0</th>\n",
       "      <td>גגגגגגג</td>\n",
       "      <td>333333333</td>\n",
       "      <td>10.6 ש</td>\n",
       "      <td>נ</td>\n",
       "      <td>05233333333</td>\n",
       "      <td></td>\n",
       "      <td>[]</td>\n",
       "      <td>[]</td>\n",
       "      <td>[6/6-]</td>\n",
       "      <td>[6/6-]</td>\n",
       "      <td>...</td>\n",
       "      <td>תקינה</td>\n",
       "      <td>מיופיה לאב</td>\n",
       "      <td>ידוע על מיופיה, מרכיבה מישקפיים, מזה חודשיי...</td>\n",
       "      <td>מלאות</td>\n",
       "      <td>ללא עדות לפזילה</td>\n",
       "      <td>20 שניות של הקשת</td>\n",
       "      <td>תקין</td>\n",
       "      <td>מיופיה עם שינוי מינמלי</td>\n",
       "      <td>המשך מישקפיים ללא שינוי , המשך טיפות של אטרופ...</td>\n",
       "      <td>עוד שנה</td>\n",
       "    </tr>\n",
       "    <tr>\n",
       "      <th>0</th>\n",
       "      <td>בבבבבבב</td>\n",
       "      <td>222222333</td>\n",
       "      <td>5.4ש</td>\n",
       "      <td>ז</td>\n",
       "      <td>0522222222</td>\n",
       "      <td></td>\n",
       "      <td>[6/7.5]</td>\n",
       "      <td>[6/7.5]</td>\n",
       "      <td>[]</td>\n",
       "      <td>[]</td>\n",
       "      <td>...</td>\n",
       "      <td>תקינה</td>\n",
       "      <td>מיופיה ואסטיגמציה לאחות ולאב</td>\n",
       "      <td>בדיקה שגרתית לאחר השתלת מח עצם וטיפול בסטרו...</td>\n",
       "      <td>מלאות</td>\n",
       "      <td>ללא עדות לפזילה</td>\n",
       "      <td>100 שניות של הקשת</td>\n",
       "      <td>empty</td>\n",
       "      <td>יובש עיני קל , עדשה שקופה וללא סימנים ללחץ ת...</td>\n",
       "      <td>טיפות FML פעמיים ביום לשבוע יחד עם הילוג'ל 3 ...</td>\n",
       "      <td>עוד שנה או קודם לפי הצורך</td>\n",
       "    </tr>\n",
       "  </tbody>\n",
       "</table>\n",
       "<p>6 rows × 82 columns</p>\n",
       "</div>"
      ],
      "text/plain": [
       "           Name         ID        Age Sex      Phone 1 Phone 2  \\\n",
       "0       ההההההה  555555555         6ש   נ   0528999999           \n",
       "0    רותי נבון   111111111         6ש   נ   0528999999           \n",
       "0       דדדדדדד             12 חודשים   ז   0524444444           \n",
       "0       אאאאאאא                  8.6ש   נ     11111111           \n",
       "0       גגגגגגג  333333333     10.6 ש   נ  05233333333           \n",
       "0       בבבבבבב  222222333       5.4ש   ז   0522222222           \n",
       "\n",
       "  far_without_repair_LEFT far_without_repair_RIGHT far_with_repair_LEFT  \\\n",
       "0                   [F+F]                    [F+F]                   []   \n",
       "0                   [F+F]                    [F+F]                   []   \n",
       "0                   [F+F]                    [F+F]                   []   \n",
       "0                   [6/9]                    [6/6]              [6/7.5]   \n",
       "0                      []                       []               [6/6-]   \n",
       "0                 [6/7.5]                  [6/7.5]                   []   \n",
       "\n",
       "  far_with_repair_RIGHT  ... Medical History-obstetrical history  \\\n",
       "0                    []  ...                               תקינה   \n",
       "0                    []  ...                               תקינה   \n",
       "0                    []  ...                               תקינה   \n",
       "0                    []  ...                               תקינה   \n",
       "0                [6/6-]  ...                               תקינה   \n",
       "0                    []  ...                               תקינה   \n",
       "\n",
       "    Medical History-family history  \\\n",
       "0            רוחק ראיה וקוצר ראיה    \n",
       "0            רוחק ראיה וקוצר ראיה    \n",
       "0           רוחק ראיה וקוצר ראיה     \n",
       "0                 אסטיגמטיזם לאב     \n",
       "0                     מיופיה לאב     \n",
       "0     מיופיה ואסטיגמציה לאחות ולאב   \n",
       "\n",
       "                    Medical History-reason for visit  \\\n",
       "0                     בדיקה שגרתית   בעבר דמעת שחלפה   \n",
       "0                     בדיקה שגרתית   בעבר דמעת שחלפה   \n",
       "0           בדיקה לצורך שלילת גורמי סיכון לעין עצלה    \n",
       "0     הרכיבה מישקפיים ארבע שנים וחצי עקב אסטיגמצי...   \n",
       "0     ידוע על מיופיה, מרכיבה מישקפיים, מזה חודשיי...   \n",
       "0     בדיקה שגרתית לאחר השתלת מח עצם וטיפול בסטרו...   \n",
       "\n",
       "  Squinting Assessment-eye movement Squinting Assessment-strabismus  \\\n",
       "0                             מלאות                ללא עדות לפזילה    \n",
       "0                             מלאות                ללא עדות לפזילה    \n",
       "0                             מלאות                ללא עדות לפזילה    \n",
       "0                             מלאות                ללא עדות לפזילה    \n",
       "0                             מלאות                ללא עדות לפזילה    \n",
       "0                             מלאות                ללא עדות לפזילה    \n",
       "\n",
       "  Squinting Assessment-depth vision Near point of convergence  \\\n",
       "0                             empty                     empty   \n",
       "0                             empty                     empty   \n",
       "0                             empty                     empty   \n",
       "0                 50 שניות של הקשת                       תקין   \n",
       "0                 20 שניות של הקשת                      תקין    \n",
       "0                100 שניות של הקשת                      empty   \n",
       "\n",
       "                                             Summary  \\\n",
       "0                 ללא עדות לבעיה עינית, מיקוד תקין     \n",
       "0                 ללא עדות לבעיה עינית, מיקוד תקין     \n",
       "0                              ללא עדות לבעיה עינית    \n",
       "0                היום כמעט ללא אסטיגמטיזם מיופיה קלה   \n",
       "0                            מיופיה עם שינוי מינמלי    \n",
       "0    יובש עיני קל , עדשה שקופה וללא סימנים ללחץ ת...   \n",
       "\n",
       "                           Treatment Recommendations  \\\n",
       "0                                    ללא צורך בטיפול   \n",
       "0                                    ללא צורך בטיפול   \n",
       "0                                    ללא צורך בטיפול   \n",
       "0                                אין צורך במישקפיים    \n",
       "0   המשך מישקפיים ללא שינוי , המשך טיפות של אטרופ...   \n",
       "0   טיפות FML פעמיים ביום לשבוע יחד עם הילוג'ל 3 ...   \n",
       "\n",
       "    Recommendations for Review  \n",
       "0                  לפי הצורך    \n",
       "0                  לפי הצורך    \n",
       "0                 עוד שנתיים    \n",
       "0                     עוד שנה   \n",
       "0                     עוד שנה   \n",
       "0   עוד שנה או קודם לפי הצורך   \n",
       "\n",
       "[6 rows x 82 columns]"
      ]
     },
     "execution_count": 1070,
     "metadata": {},
     "output_type": "execute_result"
    }
   ],
   "source": [
    "final_df"
   ]
  },
  {
   "cell_type": "markdown",
   "id": "06e9c291-6834-4c0e-86a1-63a5dc697f6c",
   "metadata": {},
   "source": [
    "## Save it in excel and csv"
   ]
  },
  {
   "cell_type": "code",
   "execution_count": 750,
   "id": "59f6f92b-990a-4e8c-9b41-3ed14cac816e",
   "metadata": {},
   "outputs": [],
   "source": [
    "final_df.to_excel(path+\"EXCEL.xlsx\")\n",
    "final_df.to_csv(path+\"CSV.csv\")"
   ]
  },
  {
   "cell_type": "code",
   "execution_count": null,
   "id": "368dd803-00ca-4288-9a5f-ffe75092f00e",
   "metadata": {},
   "outputs": [],
   "source": []
  }
 ],
 "metadata": {
  "kernelspec": {
   "display_name": "Python 3 (ipykernel)",
   "language": "python",
   "name": "python3"
  },
  "language_info": {
   "codemirror_mode": {
    "name": "ipython",
    "version": 3
   },
   "file_extension": ".py",
   "mimetype": "text/x-python",
   "name": "python",
   "nbconvert_exporter": "python",
   "pygments_lexer": "ipython3",
   "version": "3.9.12"
  }
 },
 "nbformat": 4,
 "nbformat_minor": 5
}
